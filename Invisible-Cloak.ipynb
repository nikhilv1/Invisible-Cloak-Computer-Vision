{
 "cells": [
  {
   "cell_type": "code",
   "execution_count": 1,
   "metadata": {},
   "outputs": [],
   "source": [
    "import cv2\n",
    "\n",
    "cap = cv2.VideoCapture(0)\n",
    "\n",
    "while cap.isOpened():\n",
    "    ret, back = cap.read()\n",
    "    if ret:\n",
    "        cv2.imshow(\"image\", back)\n",
    "        if cv2.waitKey(5) == ord('q'):\n",
    "            # it saves the image\n",
    "            cv2.imwrite('image.jpg', back)\n",
    "            break\n",
    "\n",
    "cap.release()\n",
    "cv2.destroyAllWindows()\n",
    "\n"
   ]
  },
  {
   "cell_type": "code",
   "execution_count": null,
   "metadata": {},
   "outputs": [],
   "source": [
    "import numpy as np\n",
    "\n",
    "cap = cv2.VideoCapture(0)\n",
    "back = cv2.imread('./image.jpg')\n",
    "\n",
    "while cap.isOpened():\n",
    "    # take each frame\n",
    "    ret, frame = cap.read()\n",
    "    if ret:\n",
    "        hsv = cv2.cvtColor(frame, cv2.COLOR_BGR2HSV)\n",
    "        # lower: hue - 10, 100, 100, higher: h+10, 255, 255\n",
    "        red = np.uint8([[[0,0,255]]]) # bgr value of red\n",
    "        hsv_red = cv2.cvtColor(red, cv2.COLOR_BGR2HSV)\n",
    "        # get hsv value of red from bgr\n",
    "        l_red = np.array([0, 100, 100])\n",
    "        u_red = np.array([10, 255, 255])\n",
    "\n",
    "        mask = cv2.inRange(hsv, l_red, u_red)\n",
    "\n",
    "        # all things red\n",
    "        part1 = cv2.bitwise_and(back, back, mask=mask)\n",
    "        mask = cv2.bitwise_not(mask)\n",
    "\n",
    "        # part 2 is all things not red\n",
    "        part2 = cv2.bitwise_and(frame, frame, mask=mask)\n",
    "        cv2.imshow(\"cloak\", part1 + part2)\n",
    "        if cv2.waitKey(5) == ord('q'):\n",
    "            break\n",
    "cap.release()\n",
    "cv2.destroyAllWindows()"
   ]
  },
  {
   "cell_type": "code",
   "execution_count": null,
   "metadata": {},
   "outputs": [],
   "source": []
  }
 ],
 "metadata": {
  "kernelspec": {
   "display_name": "Python 3",
   "language": "python",
   "name": "python3"
  },
  "language_info": {
   "codemirror_mode": {
    "name": "ipython",
    "version": 3
   },
   "file_extension": ".py",
   "mimetype": "text/x-python",
   "name": "python",
   "nbconvert_exporter": "python",
   "pygments_lexer": "ipython3",
   "version": "3.8.8"
  }
 },
 "nbformat": 4,
 "nbformat_minor": 2
}
